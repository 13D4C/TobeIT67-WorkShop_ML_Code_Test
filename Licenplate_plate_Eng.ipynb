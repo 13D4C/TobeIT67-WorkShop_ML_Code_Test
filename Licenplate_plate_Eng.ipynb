{
  "nbformat": 4,
  "nbformat_minor": 0,
  "metadata": {
    "colab": {
      "provenance": []
    },
    "kernelspec": {
      "name": "python3",
      "display_name": "Python 3"
    },
    "language_info": {
      "name": "python"
    }
  },
  "cells": [
    {
      "cell_type": "code",
      "execution_count": null,
      "metadata": {
        "id": "Zy1oxiBrS95b"
      },
      "outputs": [],
      "source": [
        "# Install required packages\n",
        "!pip install easyocr\n",
        "!pip install imutils\n",
        "\n",
        "import cv2\n",
        "import numpy as np\n",
        "import imutils\n",
        "import easyocr\n",
        "from google.colab.patches import cv2_imshow\n",
        "from google.colab import files"
      ]
    },
    {
      "cell_type": "code",
      "source": [
        "\n",
        "def detect_license_plate(image_path):\n",
        "    \"\"\"\n",
        "    Detect and recognize license plate from an image.\n",
        "\n",
        "    Args:\n",
        "        image_path (str): Path to the input image\n",
        "\n",
        "    Returns:\n",
        "        tuple: (processed image with detection, recognized text)\n",
        "    \"\"\"\n",
        "    # Read the image\n",
        "    img = cv2.imread(image_path)\n",
        "    gray = cv2.cvtColor(img, cv2.COLOR_BGR2GRAY)\n",
        "\n",
        "    # Apply filters and find edges\n",
        "    bfilter = cv2.bilateralFilter(gray, 11, 17, 17)\n",
        "    edged = cv2.Canny(bfilter, 30, 200)\n",
        "\n",
        "    # Find contours\n",
        "    keypoints = cv2.findContours(edged.copy(), cv2.RETR_TREE, cv2.CHAIN_APPROX_SIMPLE)\n",
        "    contours = imutils.grab_contours(keypoints)\n",
        "    contours = sorted(contours, key=cv2.contourArea, reverse=True)[:10]\n",
        "\n",
        "    location = None\n",
        "    for contour in contours:\n",
        "        approx = cv2.approxPolyDP(contour, 10, True)\n",
        "        if len(approx) == 4:\n",
        "            location = approx\n",
        "            break\n",
        "\n",
        "    if location is None:\n",
        "        return img, \"No license plate detected\"\n",
        "\n",
        "    # Create mask and perform bitwise operations\n",
        "    mask = np.zeros(gray.shape, np.uint8)\n",
        "    new_image = cv2.drawContours(mask, [location], 0, 255, -1)\n",
        "    new_image = cv2.bitwise_and(img, img, mask=mask)\n",
        "\n",
        "    # Crop the license plate region\n",
        "    (x, y) = np.where(mask == 255)\n",
        "    (x1, y1) = (np.min(y), np.min(x))\n",
        "    (x2, y2) = (np.max(y), np.max(x))\n",
        "    cropped_image = gray[y1:y2+1, x1:x2+1]\n",
        "\n",
        "    # Initialize EasyOCR\n",
        "    reader = easyocr.Reader(['en'])\n",
        "\n",
        "    # Read text from the license plate\n",
        "    result = reader.readtext(cropped_image)\n",
        "    text = \"\"\n",
        "\n",
        "    # Draw rectangle and text\n",
        "    if result:\n",
        "        text = result[0][1]\n",
        "        cv2.rectangle(img, (x1, y1), (x2, y2), (0, 255, 0), 2)\n",
        "        cv2.putText(img, text, (x1, y1-10), cv2.FONT_HERSHEY_SIMPLEX, 0.9, (0, 255, 0), 2)\n",
        "\n",
        "    return img, text"
      ],
      "metadata": {
        "id": "Fpkg6jpATENM"
      },
      "execution_count": null,
      "outputs": []
    },
    {
      "cell_type": "code",
      "source": [
        "# Usage\n",
        "def process_uploaded_image():\n",
        "    \"\"\"Upload and process an image in Google Colab\"\"\"\n",
        "    uploaded = files.upload()\n",
        "\n",
        "    for filename in uploaded.keys():\n",
        "        print(f'Processing {filename}...')\n",
        "\n",
        "        # Process the image\n",
        "        processed_img, plate_text = detect_license_plate(filename)\n",
        "\n",
        "        # Display results\n",
        "        print(f'Detected Text: {plate_text}')\n",
        "        cv2_imshow(processed_img)\n",
        "\n",
        "        # Option to download the processed image\n",
        "        cv2.imwrite('processed_' + filename, processed_img)\n",
        "        files.download('processed_' + filename)\n",
        "\n",
        "# Run the pipeline\n",
        "process_uploaded_image()"
      ],
      "metadata": {
        "id": "F7Bexep2TH-9"
      },
      "execution_count": null,
      "outputs": []
    }
  ]
}